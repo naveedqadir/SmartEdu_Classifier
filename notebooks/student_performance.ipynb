{
 "cells": [
  {
   "cell_type": "markdown",
   "id": "da95cf9a",
   "metadata": {},
   "source": [
    "# Student Performance Classification\n",
    "\n",
    "This notebook performs EDA and model evaluation for the synthetic student dataset. It mirrors the `src/train.py` script but is interactive for plotting and exploration."
   ]
  },
  {
   "cell_type": "code",
   "execution_count": null,
   "id": "35ac2d56",
   "metadata": {},
   "outputs": [],
   "source": [
    "# Imports and setup\n",
    "import os\n",
    "import pandas as pd\n",
    "import numpy as np\n",
    "import matplotlib.pyplot as plt\n",
    "import seaborn as sns\n",
    "import joblib\n",
    "from sklearn.metrics import classification_report, confusion_matrix\n",
    "\n",
    "sns.set(style='whitegrid')\n",
    "%matplotlib inline\n"
   ]
  },
  {
   "cell_type": "code",
   "execution_count": null,
   "id": "0dd8bab8",
   "metadata": {},
   "outputs": [],
   "source": [
    "# Load dataset\n",
    "df = pd.read_csv('../data/students.csv')\n",
    "print('Rows, cols:', df.shape)\n",
    "df.head()\n",
    "\n",
    "# Quick missing value summary\n",
    "print('\\nMissing values per column:')\n",
    "print(df.isna().sum())\n"
   ]
  },
  {
   "cell_type": "code",
   "execution_count": null,
   "id": "8575aa30",
   "metadata": {},
   "outputs": [],
   "source": [
    "# EDA: distributions and correlation\n",
    "features = ['MST_Score','Quiz_Avg','Attendance','Assignment_Score']\n",
    "plt.figure(figsize=(12,8))\n",
    "for i, col in enumerate(features, 1):\n",
    "    plt.subplot(2,2,i)\n",
    "    sns.histplot(df[col].dropna(), kde=True)\n",
    "    plt.title(col)\n",
    "plt.tight_layout()\n",
    "\n",
    "plt.figure(figsize=(6,5))\n",
    "sns.heatmap(df[features].corr(), annot=True, cmap='coolwarm')\n",
    "plt.title('Feature Correlation')\n",
    "plt.show()\n",
    "\n",
    "# Load saved model (if present) and evaluate on held-out set using same preprocessing as src/train.py\n",
    "model_path = '../models/best_model.joblib'\n",
    "if os.path.exists(model_path):\n",
    "    artifacts = joblib.load(model_path)\n",
    "    model = artifacts['model']\n",
    "    scaler = artifacts['scaler']\n",
    "    imputer = artifacts['imputer']\n",
    "    le = artifacts['label_encoder']\n",
    "\n",
    "    X = df[features].copy()\n",
    "    X_imp = pd.DataFrame(imputer.transform(X), columns=features)\n",
    "    X_scaled = pd.DataFrame(scaler.transform(X_imp), columns=features)\n",
    "\n",
    "    # We'll do a quick train/test split similar to script\n",
    "    from sklearn.model_selection import train_test_split\n",
    "    X_train, X_test, y_train, y_test = train_test_split(X_scaled, le.transform(df['Category']), test_size=0.25, random_state=42, stratify=le.transform(df['Category']))\n",
    "\n",
    "    preds = model.predict(X_test)\n",
    "    print('\\nClassification report for saved model:')\n",
    "    print(classification_report(y_test, preds, target_names=le.classes_))\n",
    "    cm = confusion_matrix(y_test, preds)\n",
    "    plt.figure(figsize=(6,5))\n",
    "    sns.heatmap(cm, annot=True, fmt='d', xticklabels=le.classes_, yticklabels=le.classes_, cmap='Blues')\n",
    "    plt.title('Confusion Matrix (saved model)')\n",
    "    plt.show()\n",
    "else:\n",
    "    print('No saved model found at', model_path)\n"
   ]
  }
 ],
 "metadata": {
  "language_info": {
   "name": "python"
  }
 },
 "nbformat": 4,
 "nbformat_minor": 5
}
